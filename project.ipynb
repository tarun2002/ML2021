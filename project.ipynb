{
  "nbformat": 4,
  "nbformat_minor": 0,
  "metadata": {
    "colab": {
      "name": "Untitled9.ipynb",
      "provenance": [],
      "authorship_tag": "ABX9TyPKmuWiqwHntG/k2ZjuHmsm",
      "include_colab_link": true
    },
    "kernelspec": {
      "name": "python3",
      "display_name": "Python 3"
    }
  },
  "cells": [
    {
      "cell_type": "markdown",
      "metadata": {
        "id": "view-in-github",
        "colab_type": "text"
      },
      "source": [
        "<a href=\"https://colab.research.google.com/github/tarun2002/ML2021/blob/main/project.ipynb\" target=\"_parent\"><img src=\"https://colab.research.google.com/assets/colab-badge.svg\" alt=\"Open In Colab\"/></a>"
      ]
    },
    {
      "cell_type": "code",
      "metadata": {
        "id": "56ZI4MLTnTug",
        "outputId": "015d4d2b-8dbb-4ce3-eec3-2ce6ec699e5a",
        "colab": {
          "base_uri": "https://localhost:8080/",
          "height": 671
        }
      },
      "source": [
        "import random\n",
        "import datetime\n",
        "def greetings():\n",
        "    #The bot greets the user first\n",
        "    responses = [\"Hi I am your personal Resume Maker\",\"Hello Master I am your Resume Maker\"]\n",
        "    print(random.choice(responses))\n",
        "\n",
        "def get_timeofday_greeting():\n",
        "    current_time = datetime.datetime.now()\n",
        "    timeofday_greeting = \"Good Morning\"\n",
        "    if current_time.hour >12 and current_time.hour < 17:\n",
        "        timeofday_greeting = \"Good Afternoon\"\n",
        "    elif current_time.hour > 17 and current_time.hour < 22:\n",
        "        timeofday_greeting = \"Good Evening\"\n",
        "    elif current_time.hour >=22:\n",
        "        timeofday_greeting = \"Hi, Thats Late !\"\n",
        "    return timeofday_greeting\n",
        "\n",
        "def welcome(name):\n",
        "    messages = [name +\" ! \"+ \" You are gonna be a future changer\"]\n",
        "    print(f\"{get_timeofday_greeting()}, {random.choice(messages)}\")\n",
        "\n",
        "def resume():\n",
        "   a=input(\"Enter your  name        :\")\n",
        "   b=input(\"Enter your address      :\")\n",
        "   c=input(\"Enter your email address:\")\n",
        "   print(45*\"__\")\n",
        "   print(\"Personal Profile\")\n",
        "   f=input(\"Date of Birth            :\")\n",
        "   g=input(\"Martial Status           :\")\n",
        "   h=input(\"Nationality              :\")\n",
        "   i=input(\"Height                   :\")\n",
        "   j=input(\"Weight                   :\")\n",
        "   k=input(\"Colour of Eyes           :\")\n",
        "   l=input(\"Colour of Hair           :\")\n",
        "   print(\"Educational Qualification\")\n",
        "   m=input(\"-->\")\n",
        "   n=input(\"-->\")\n",
        "   o=input(\"-->\")\n",
        "   print(\"Professional Qualifications\")\n",
        "   p=input(\"-->\")\n",
        "   print(\"Languages Known\")\n",
        "   q=input(\"-->\")\n",
        "   r=input(\"-->\")\n",
        "   print(\"Hobbies\")\n",
        "   s=input(\"-->\")\n",
        "   print(\"Career Objective\")\n",
        "   d=input(\"-->\")\n",
        "   print(\"Desire\")\n",
        "   e=input(\"-->\")\n",
        "   print(\"                     \")\n",
        "   print(\"All information in this resume is true and correct to the best of my knowledge and belief.\")\n",
        "   print(45*\"___\")\n",
        "\n",
        "def bot():\n",
        "    greetings()\n",
        "    name=input(\"Enter your name:    \")\n",
        "    welcome(name)\n",
        "    print(\"            \")\n",
        "    print(\"                              CURRICULUM VITAE       \")\n",
        "    print(\"      \")\n",
        "    resume()\n",
        "\n",
        "bot()"
      ],
      "execution_count": 4,
      "outputs": [
        {
          "output_type": "stream",
          "text": [
            "Hello Master I am your Resume Maker\n",
            "Enter your name:    Tarun\n",
            "Good Afternoon, Tarun !  You are gonna be a future changer\n",
            "            \n",
            "                              CURRICULUM VITAE       \n",
            "      \n",
            "Enter your  name        :pvsntarun\n",
            "Enter your address      :kakinada,East Godavari,Andhra Pradesh\n",
            "Enter your email address:19pa1a05d5@vishnu.edu.in\n",
            "__________________________________________________________________________________________\n",
            "Personal Profile\n",
            "Date of Birth            :15-08-2002\n",
            "Martial Status           :Not Married\n",
            "Nationality              :Indian\n",
            "Height                   :5'2\n",
            "Weight                   :52\n",
            "Colour of Eyes           :Brown\n",
            "Colour of Hair           :Black\n",
            "Educational Qualification\n",
            "-->SSC   - 9.5\n",
            "-->Intermediate -9.94\n",
            "-->B.tech - 9.5\n",
            "Professional Qualifications\n",
            "-->2 years experience in infosys \n",
            "Languages Known\n",
            "-->English\n",
            "-->Hindi\n",
            "Hobbies\n",
            "-->Reading books,Watching movies,playing games,traveling\n",
            "Career Objective\n",
            "-->To secure a challenging position in a reputable organization to expand my learnings, knowledge, and skills.\n",
            "Desire\n",
            "-->.........\n",
            "                     \n",
            "All information in this resume is true and correct to the best of my knowledge and belief.\n",
            "_______________________________________________________________________________________________________________________________________\n"
          ],
          "name": "stdout"
        }
      ]
    }
  ]
}